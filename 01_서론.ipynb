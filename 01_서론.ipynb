{
  "nbformat": 4,
  "nbformat_minor": 0,
  "metadata": {
    "colab": {
      "provenance": [],
      "authorship_tag": "ABX9TyNEjTJy7cYohXnnq3x63ejR",
      "include_colab_link": true
    },
    "kernelspec": {
      "name": "python3",
      "display_name": "Python 3"
    },
    "language_info": {
      "name": "python"
    }
  },
  "cells": [
    {
      "cell_type": "markdown",
      "metadata": {
        "id": "view-in-github",
        "colab_type": "text"
      },
      "source": [
        "<a href=\"https://colab.research.google.com/github/sgr1118/Sentence-Embedding-Using-Korean-Corpora/blob/main/01_%EC%84%9C%EB%A1%A0.ipynb\" target=\"_parent\"><img src=\"https://colab.research.google.com/assets/colab-badge.svg\" alt=\"Open In Colab\"/></a>"
      ]
    },
    {
      "cell_type": "markdown",
      "source": [
        "# 서론\n",
        "- 1장에서는 임베딩의 정의와 임베딩이 중요한 이유를 알아보자. 임베딩 기법의 간단한 역사와 종류를 설명한다.\n",
        "\n",
        "## 1.1 임베딩이란\n",
        "- NLP분야에서 임베딩이란, 사람이 쓰는 자연어를 기계가 이해할 수 있는 숫자의 나열인 벡터로 바꾼 결과 혹은 그 일련의 과정 전체를 의미한다. 단어나 문장 각각을 벡터로 변환해 벡터 공간으로 넣는다는 의미에서 임베딩이라는 이름이 붙는다.\n",
        "\n",
        "- 우리가 생각하는 가장 간단한 형태의 임베딩은 단어의 빈도를 그대로 벡터로 사용하는 것이다. 아래는 소설들의 단어별 빈도표의 일부이다.\n",
        "\n",
        "표 1-1\n",
        "\n",
        "|구분|메밀꽃 필 무렵|운수 좋은 날|사랑 손님과 어머니|삼포 가는 길|\n",
        "|-|-|-|-|-|\n",
        "|기차|0|2|10|7|\n",
        "|막걸리|0|1|0|0|\n",
        "|선술집|0|1|0|0|\n",
        "\n",
        "- 표 1-1을 보면 운수 좋은 날이라는 문서의 임베딩은 [2,1,1]이다. 막걸리라는 간어의 임베딩은 [0,1,0,0]이다. 이 표를 자세히보면 사랑 손님, 삼포 가는 길은 사용하는 단어 목록이 상대적으로 많이 겹치고 있는 것을 알 수 있다. 이를 바탕으로 우리는 사랑 손님은 삼포 가는 길과 기차라는 소재를 공유한다는 점에서 비슷한 작품일 것이라는 추측을 할 수 있다. 또 막걸리라는 단어와 선술집이라는 단어가 운수 좋은 날이라는 작품에만 등장하는 것을 알 수 있다. 이를 바탕으로 막걸리 - 선술집 간 의미 차이가 막걸리 - 기차 보다 작을 것이라고 추정할 수 있다.\n",
        "\n",
        "## 1.2 임베딩의 역할\n",
        "\n",
        "임베딩은 다음 역할을 수행한다.\n",
        "\n",
        "- 단어/문장 간 관련도 계산\n",
        "- 의미적/문법적 정보 함축\n",
        "- 전이 학습\n",
        "\n",
        "### 1.2.1 단어/문장 간 관련도 계산"
      ],
      "metadata": {
        "id": "KcPzAumlHIkb"
      }
    },
    {
      "cell_type": "code",
      "execution_count": null,
      "metadata": {
        "id": "Wb66TAzKENeF"
      },
      "outputs": [],
      "source": []
    }
  ]
}